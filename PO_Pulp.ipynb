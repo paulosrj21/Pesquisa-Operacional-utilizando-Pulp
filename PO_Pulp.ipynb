{
  "nbformat": 4,
  "nbformat_minor": 0,
  "metadata": {
    "colab": {
      "provenance": []
    },
    "kernelspec": {
      "name": "python3",
      "display_name": "Python 3"
    },
    "language_info": {
      "name": "python"
    }
  },
  "cells": [
    {
      "cell_type": "code",
      "execution_count": null,
      "metadata": {
        "colab": {
          "base_uri": "https://localhost:8080/"
        },
        "id": "Whi4DUCh5Zw4",
        "outputId": "13477185-cf84-4876-fcca-ac7b67673a5b"
      },
      "outputs": [
        {
          "output_type": "stream",
          "name": "stdout",
          "text": [
            "Menor rota: ('B', 'E', 'D', 'C', 'A')\n",
            "Comprimento: 99.89999999999999\n"
          ]
        }
      ],
      "source": [
        "# O Caixeiro Viajante\n",
        "import itertools\n",
        "import matplotlib.pyplot as plt\n",
        "\n",
        "# Dados das cidades e suas distâncias\n",
        "cidades = {'A': {'B': 12.5, 'C': 18.3, 'D': 22.7, 'E': 30.1},\n",
        "           'B': {'A': 12.5, 'C': 25.6, 'D': 19.8, 'E': 28.4},\n",
        "           'C': {'A': 18.3, 'B': 25.6, 'D': 14.2, 'E': 33.7},\n",
        "           'D': {'A': 22.7, 'B': 19.8, 'C': 14.2, 'E': 26.5},\n",
        "           'E': {'A': 30.1, 'B': 28.4, 'C': 33.7, 'D': 26.5}}\n",
        "\n",
        "\n",
        "# Função para calcular o comprimento de uma rota\n",
        "def comprimento_rota(rota):\n",
        "    comprimento = 0\n",
        "    for i in range(len(rota) - 1):\n",
        "        cidade_atual = rota[i]\n",
        "        proxima_cidade = rota[i + 1]\n",
        "        comprimento += cidades[cidade_atual][proxima_cidade]\n",
        "    # Adicionando a distância de volta para a cidade de origem\n",
        "    comprimento += cidades[rota[-1]][rota[0]]\n",
        "    return comprimento\n",
        "\n",
        "# Gerando todas as permutações das cidades\n",
        "todas_rotas = itertools.permutations(cidades.keys())\n",
        "\n",
        "# Inicializando a menor rota e seu comprimento\n",
        "menor_rota = None\n",
        "menor_comprimento = float('inf')\n",
        "\n",
        "# Encontrando a menor rota\n",
        "for rota in todas_rotas:\n",
        "    comprimento = comprimento_rota(rota)\n",
        "    if comprimento < menor_comprimento:\n",
        "        menor_comprimento = comprimento\n",
        "        menor_rota = rota\n",
        "\n",
        "# Exibindo a menor rota e seu comprimento\n",
        "print(\"Menor rota:\", menor_rota)\n",
        "print(\"Comprimento:\", menor_comprimento)"
      ]
    },
    {
      "cell_type": "code",
      "source": [
        "# Decisão, Objetivo e Restrição"
      ],
      "metadata": {
        "id": "EVF53QMQZFtp"
      },
      "execution_count": null,
      "outputs": []
    },
    {
      "cell_type": "code",
      "source": [
        "!pip install pulp"
      ],
      "metadata": {
        "colab": {
          "base_uri": "https://localhost:8080/"
        },
        "id": "CyL0Pl8lDJAy",
        "outputId": "9886abb1-115d-45bf-9f1f-3c05c909a8c9"
      },
      "execution_count": null,
      "outputs": [
        {
          "output_type": "stream",
          "name": "stdout",
          "text": [
            "Collecting pulp\n",
            "  Downloading PuLP-2.8.0-py3-none-any.whl (17.7 MB)\n",
            "\u001b[2K     \u001b[90m━━━━━━━━━━━━━━━━━━━━━━━━━━━━━━━━━━━━━━━━\u001b[0m \u001b[32m17.7/17.7 MB\u001b[0m \u001b[31m38.2 MB/s\u001b[0m eta \u001b[36m0:00:00\u001b[0m\n",
            "\u001b[?25hInstalling collected packages: pulp\n",
            "Successfully installed pulp-2.8.0\n"
          ]
        }
      ]
    },
    {
      "cell_type": "markdown",
      "source": [
        "Estudos de Caso\n",
        "Uma fábrica de móveis deseja otimizar sua produção para maximizar o lucro mensal.\n",
        "\n",
        "Eles fabricam dois tipos de móveis: cadeiras e mesas.\n",
        "\n",
        "Cada cadeira gera um lucro de 20 reais e requer 2 horas de trabalho, enquanto cada mesa gera um lucro de 30 reais e requer 3 horas de trabalho.\n",
        "\n",
        "A fábrica tem disponíveis 100 horas de trabalho por semana."
      ],
      "metadata": {
        "id": "_vqgLy5dDD9i"
      }
    },
    {
      "cell_type": "code",
      "source": [
        "import pulp\n",
        "\n",
        "prob1 = pulp.LpProblem(\"Maximizar_Lucro\", pulp.LpMaximize)\n",
        "\n",
        "# Definição das variáveis de decisão\n",
        "x1 = pulp.LpVariable('Cadeiras', lowBound=0, cat='Integer') # lowBound usamos para que os números sejam positivos\n",
        "x2 = pulp.LpVariable('Mesas', lowBound=0, cat='Integer') # cat = 'Integer' Usamos para determinar que os números sejam inteiros\n",
        "\n",
        "# Criação da função objetivo\n",
        "prob1 += 20 * x1 + 30 * x2, \"Lucro Total\"\n",
        "\n",
        "# Definição das restrições\n",
        "prob1 += 2 * x1 + 3 * x2 <= 100, \"Horas de Trabalho\"\n",
        "\n",
        "prob1.solve()\n",
        "\n",
        "# Resultados\n",
        "print(\"Status:\", pulp.LpStatus[prob1.status])\n",
        "print(\"Quantidade de cadeiras:\", pulp.value(x1))\n",
        "print(\"Quantidade de mesas:\", pulp.value(x2))\n",
        "print(\"Lucro Total: R$\", pulp.value(prob1.objective))"
      ],
      "metadata": {
        "colab": {
          "base_uri": "https://localhost:8080/"
        },
        "id": "ZlE2-EDYC04b",
        "outputId": "9da381ab-3526-4374-9040-d0514388bf42"
      },
      "execution_count": null,
      "outputs": [
        {
          "output_type": "stream",
          "name": "stdout",
          "text": [
            "Status: Optimal\n",
            "Quantidade de cadeiras: 2.0\n",
            "Quantidade de mesas: 32.0\n",
            "Lucro Total: R$ 1000.0\n"
          ]
        }
      ]
    },
    {
      "cell_type": "markdown",
      "source": [
        "Estudo de Caso 02:\n",
        "\n",
        "Um sapateiro faz 6 sapatos por hora se fizer somente sapatos, e 5 cintos por hora se fizer somente cintos. Ele gasta 2 unidades de couro para fabricar 1 unidade de sapato e 1 unidade de couro para fabricar uma unidade de cinto.\n",
        "\n",
        "Sabendo-se que o total disponível de couro é de 6 unidades e que o lucro unitário por sapato é de 5 unidades monetárias e o lucro do cinto é de 2 unidades monetárias.\n",
        "\n",
        "Qual o modelo do sistema de produção do sapateiro, se o objetivo é maximizar o lucro por hora?"
      ],
      "metadata": {
        "id": "AHFsJlJ5Db1N"
      }
    },
    {
      "cell_type": "code",
      "source": [
        "prob1 = pulp.LpProblem(\"Maximizar_Lucro\", pulp.LpMaximize)\n",
        "\n",
        "# Definição das variáveis de decisão\n",
        "sapatos = pulp.LpVariable('Sapatos', lowBound=0, cat='Integer') # lowBound usamos para que os números sejam positivos\n",
        "cintos = pulp.LpVariable('Cintos', lowBound=0, cat='Integer') # cat = 'Integer' Usamos para determinar que os números sejam inteiros\n",
        "\n",
        "# Criação da função objetivo\n",
        "prob1 += 5 * sapatos + 2 * cintos, \"Lucro Total\"\n",
        "\n",
        "# Definição das restrições\n",
        "prob1 += 2 * sapatos + 1 * cintos <= 20, \"Couro\"\n",
        "prob1 += cintos == 20*0.2,\"Produção Cinto\"\n",
        "#Restringe a produção minima de cinto por 20%\n",
        "\n",
        "prob1.solve()\n",
        "\n",
        "# Resultados\n",
        "print(\"Status:\", pulp.LpStatus[prob1.status])\n",
        "print(\"Quantidade de Sapatos:\", pulp.value(sapatos))\n",
        "print(\"Quantidade de Cintos:\", pulp.value(cintos))\n",
        "print(\"Lucro Total: R$\", pulp.value(prob1.objective))"
      ],
      "metadata": {
        "colab": {
          "base_uri": "https://localhost:8080/"
        },
        "id": "ivEzicaiDabV",
        "outputId": "130d3b13-d790-495a-9e5b-9f591d390835"
      },
      "execution_count": null,
      "outputs": [
        {
          "output_type": "stream",
          "name": "stdout",
          "text": [
            "Status: Optimal\n",
            "Quantidade de Sapatos: 8.0\n",
            "Quantidade de Cintos: 4.0\n",
            "Lucro Total: R$ 48.0\n"
          ]
        }
      ]
    },
    {
      "cell_type": "markdown",
      "source": [
        "Estudo de Caso 3:\n",
        "\n",
        "Um vendedor de frutas pode transportar 800 caixas de frutas para a sua região de vendas, ele necessita transportar 200 caixas de laranjas a 20 unidades monetárias na venda por caixa, 100 caixas de pessegos a 10 unidades monetárias na venda por caixa e por fim, 200 caixas de tangerinas a 30 unidades monetárias na venda por caixa. como deve ser feito para maximizar o lucro ?"
      ],
      "metadata": {
        "id": "m6Gz5cUjKisv"
      }
    },
    {
      "cell_type": "code",
      "source": [
        "prob1 = pulp.LpProblem(\"Maximizar_Lucro\", pulp.LpMaximize)\n",
        "\n",
        "# Definição das variáveis de decisão\n",
        "laranja = pulp.LpVariable('Laranjas', lowBound=0, cat='Integer')\n",
        "pessego = pulp.LpVariable('Pessegos', lowBound=0, cat='Integer')\n",
        "tangerina = pulp.LpVariable('Tangerina', lowBound=0, cat='Integer')\n",
        "\n",
        "# Criação da função objetivo\n",
        "prob1 += 20 * laranja + 10 * pessego + 30 * tangerina, \"Lucro Total\"\n",
        "\n",
        "# Definição das restrições\n",
        "prob1 += laranja >= 200,\"Caixas Laranjas\"\n",
        "prob1 += pessego >= 100,\"Caixas Pessego\"\n",
        "prob1 += tangerina >= 200,\"Caixas Tangerinas\"\n",
        "prob1 += laranja + pessego + tangerina <= 800, \"Caixas\"\n",
        "\n",
        "prob1.solve()\n",
        "\n",
        "# Resultados\n",
        "print(\"Status:\", pulp.LpStatus[prob1.status])\n",
        "print(\"Quantidade de Caixa de Laranjas:\", pulp.value(laranja))\n",
        "print(\"Quantidade de Caixa de Pessegos:\", pulp.value(pessego))\n",
        "print(\"Quantidade de Caixa de Tangerinas:\", pulp.value(tangerina))\n",
        "print(\"Lucro Total: R$\", pulp.value(prob1.objective))"
      ],
      "metadata": {
        "colab": {
          "base_uri": "https://localhost:8080/"
        },
        "id": "YzZ_WDTvKkxn",
        "outputId": "7c2f0870-98de-4342-b169-635951186ec0"
      },
      "execution_count": null,
      "outputs": [
        {
          "output_type": "stream",
          "name": "stdout",
          "text": [
            "Status: Optimal\n",
            "Quantidade de Caixa de Laranjas: 200.0\n",
            "Quantidade de Caixa de Pessegos: 100.0\n",
            "Quantidade de Caixa de Tangerinas: 500.0\n",
            "Lucro Total: R$ 20000.0\n"
          ]
        }
      ]
    },
    {
      "cell_type": "markdown",
      "source": [
        "Estudo de caso 4\n",
        "\n",
        "Um cargueiro está se preparando para transportar contêineres de carga de diferentes tipos e tamanhos. O navio tem uma capacidade total de 10.000 unidades de containers de 20 pés.\n",
        "\n",
        "Detalhes do Problema:\n",
        "\n",
        "O navio tem uma capacidade máxima de 10.000 unidades de containers de 20 pés. Os contêineres de carga podem ser de dois tipos: perecível e normal. Existem dois tamanhos de contêineres: 20 pés e 40 pés. O lucro obtido com cada tipo de contêiner é diferente. A carga perecível só pode ser acomodada em contêineres de 20 pés. No mínimo 20% dos contêineres de 20 pés devem conter carga perecível. No mínimo 10% dos contêineres de 20 pés devem conter carga normal. No mínimo 50% dos contêineres de 40 pés devem conter carga normal. Detalhes dos Lucros:\n",
        "\n",
        "Container de 20 pés com carga perecível: lucro de 500 unidades monetárias. Container de 20 pés com carga normal: lucro de 300 unidades monetárias. Container de 40 pés com carga normal: lucro de 700 unidades monetárias."
      ],
      "metadata": {
        "id": "Fr98f2DoNi8r"
      }
    },
    {
      "cell_type": "code",
      "source": [
        "prob1 = pulp.LpProblem(\"Maximizar_Lucro\", pulp.LpMaximize)\n",
        "\n",
        "# Definição das variáveis de decisão\n",
        "vintep = pulp.LpVariable('20 Pés Pereciveis', lowBound=0, cat='Integer')\n",
        "vinten = pulp.LpVariable('20 Pés Normais', lowBound=0, cat='Integer')\n",
        "quarentn = pulp.LpVariable('40 Pés Normais', lowBound=0, cat='Integer')\n",
        "\n",
        "# Criação da função objetivo\n",
        "prob1 += 500 * vintep + 300 * vinten + 700 * quarentn, \"Lucro Total\"\n",
        "\n",
        "# Definição das restrições\n",
        "\n",
        "\n",
        "prob1 += vintep >= 5000*0.2,\"20 Pes Pereciveis\"\n",
        "prob1 += vinten >= 5000*0.2,\"20 Pes Normais\"\n",
        "prob1 += quarentn <= 5000 * 0.5,\"40 Pes Normais\"\n",
        "prob1 += vintep + vinten + quarentn <= 7500, \"Containeres\"\n",
        "\n",
        "prob1.solve()\n",
        "\n",
        "# Resultados\n",
        "print(\"Status:\", pulp.LpStatus[prob1.status])\n",
        "print(\"Quantidade de 20 Pes Pereciveis:\", pulp.value(vintep))\n",
        "print(\"Quantidade de 20 Pes Normais:\", pulp.value(vinten))\n",
        "print(\"Quantidade de 40 Pes Normais:\", pulp.value(quarentn))\n",
        "print(\"Lucro Total: R$\", pulp.value(prob1.objective))"
      ],
      "metadata": {
        "colab": {
          "base_uri": "https://localhost:8080/"
        },
        "id": "3pj-GT4CNkc9",
        "outputId": "7d733dca-87ec-4186-eee1-50a62388cd8f"
      },
      "execution_count": null,
      "outputs": [
        {
          "output_type": "stream",
          "name": "stdout",
          "text": [
            "Status: Optimal\n",
            "Quantidade de 20 Pes Pereciveis: 4000.0\n",
            "Quantidade de 20 Pes Normais: 1000.0\n",
            "Quantidade de 40 Pes Normais: 2500.0\n",
            "Lucro Total: R$ 4050000.0\n"
          ]
        }
      ]
    },
    {
      "cell_type": "markdown",
      "source": [
        "Estudo de Caso 05\n",
        "\n",
        "Problema de Alocação de Recursos em uma Fábrica:\n",
        "\n",
        "Uma fábrica possui uma equipe de funcionários que podem ser alocados para diferentes tarefas. O objetivo é maximizar a produção total da fábrica, considerando as limitações de disponibilidade de recursos.\n",
        "\n",
        "Detalhes do Problema:\n",
        "\n",
        "Existem três tipos de tarefas na fábrica: A, B e C. Cada tipo de tarefa requer diferentes quantidades de horas de trabalho por unidade produzida. A fábrica tem uma quantidade limitada de horas de trabalho disponíveis por semana para alocar para essas tarefas.\n",
        "\n",
        "O lucro obtido com cada tipo de produto fabricado é diferente.\n",
        "\n",
        "Detalhes das Tarefas:\n",
        "\n",
        "Tarefa A: Requer 1 hora de trabalho para produzir uma unidade e gera um lucro de 100 unidades monetárias por unidade. Tarefa B: Requer 2 horas de trabalho para produzir uma unidade e gera um lucro de 150 unidades monetárias por unidade. Tarefa C: Requer 1,5 horas de trabalho para produzir uma unidade e gera um lucro de 120 unidades monetárias por unidade.\n",
        "\n",
        "Restrições:\n",
        "\n",
        "A fábrica tem um total de 120 horas de trabalho disponíveis por semana.\n",
        "\n",
        "Pelo menos 20% das horas devem ser alocadas para a tarefa B.\n",
        "\n",
        "No máximo 48% das horas podem ser alocadas para a tarefa C.\n",
        "\n",
        "Com base nesses detalhes, podemos formular o problema de programação linear para maximizar o lucro total da fábrica."
      ],
      "metadata": {
        "id": "1pq2EezPNkrt"
      }
    },
    {
      "cell_type": "code",
      "source": [
        "prob1 = pulp.LpProblem(\"Maximizar_Lucro\", pulp.LpMaximize)\n",
        "\n",
        "# Definição das variáveis de decisão\n",
        "tarefaa = pulp.LpVariable('Tarefa A', lowBound=0, cat='Integer')\n",
        "tarefab = pulp.LpVariable('Tarefa B', lowBound=0, cat='Integer')\n",
        "tarefac = pulp.LpVariable('Tarefa C', lowBound=0, cat='Integer')\n",
        "\n",
        "# Criação da função objetivo\n",
        "prob1 += 100 * tarefaa + 150 * tarefab + 160 * tarefac, \"Lucro Total\"\n",
        "\n",
        "# Definição das restrições\n",
        "\n",
        "prob1 += 1 * tarefaa + 2 * tarefab + 1.5 * tarefac <= 120,\"Horas\"\n",
        "prob1 += 2 * tarefab >= 120*0.2\n",
        "prob1 += 1.5 * tarefac <= 120*0.48\n",
        "\n",
        "prob1.solve()\n",
        "\n",
        "# Resultados\n",
        "print(\"Status:\", pulp.LpStatus[prob1.status])\n",
        "print(\"Quantidade de Tarefa A:\", pulp.value(tarefaa))\n",
        "print(\"Quantidade de Tarefa B:\", pulp.value(tarefab))\n",
        "print(\"Quantidade de Tarefa C:\", pulp.value(tarefac))\n",
        "print(\"Lucro Total: R$\", pulp.value(prob1.objective))"
      ],
      "metadata": {
        "colab": {
          "base_uri": "https://localhost:8080/"
        },
        "id": "U0J6HSINNk30",
        "outputId": "467c4fb2-9fb3-4c1b-ede7-c6c425ca9336"
      },
      "execution_count": null,
      "outputs": [
        {
          "output_type": "stream",
          "name": "stdout",
          "text": [
            "Status: Optimal\n",
            "Quantidade de Tarefa A: 39.0\n",
            "Quantidade de Tarefa B: 12.0\n",
            "Quantidade de Tarefa C: 38.0\n",
            "Lucro Total: R$ 11780.0\n"
          ]
        }
      ]
    },
    {
      "cell_type": "markdown",
      "source": [
        "Estudo de Caso 06\n",
        "\n",
        "Uma empresa de transporte precisa transportar 1000 unidades de carga de um depósito para um cliente. A empresa possui três tipos de caminhões disponíveis:\n",
        "\n",
        "Caminhão A: Capacidade de 20 unidades com custo por unidade transportada de R$ 10\n",
        "\n",
        "Caminhão B:Capacidade de 30 unidades com custo por unidade transportada de R$ 8\n",
        "\n",
        "Caminhão C:Capacidade de 35 unidades com custo por unidade transportada de R$ 7\n",
        "\n",
        "A empresa deseja minimizar o custo total de transporte de 1000 unidadesda carga, com somente 15 caminhões do tipo C disponíveis 10 caminhões do tipo B e 30 caminhões do tipo A.\n",
        "\n",
        "Encontrar a combinação ideal de caminhões A, B e C que minimize o custo total de transporte da carga, respeitando as restrições."
      ],
      "metadata": {
        "id": "6e5TyZSmNnih"
      }
    },
    {
      "cell_type": "code",
      "source": [
        "import pulp\n",
        "\n",
        "# Criação do problema de maximização\n",
        "prob = pulp.LpProblem(\"Maximizar_Lucro\", pulp.LpMaximize)\n",
        "\n",
        "# Variáveis de decisão - quantidade a ser plantada de cada cultura\n",
        "cultura_A = pulp.LpVariable(\"Cultura_A\", lowBound=0, cat='Integer')\n",
        "cultura_B = pulp.LpVariable(\"Cultura_B\", lowBound=0, cat='Integer')\n",
        "cultura_C = pulp.LpVariable(\"Cultura_C\", lowBound=0, cat='Integer')\n",
        "cultura_D = pulp.LpVariable(\"Cultura_D\", lowBound=0, cat='Integer')\n",
        "cultura_E = pulp.LpVariable(\"Cultura_E\", lowBound=0, cat='Integer')\n",
        "\n",
        "# Função objetivo - maximizar o lucro total\n",
        "prob += 300*cultura_A + 400*cultura_B + 450*cultura_C + 600*cultura_D + 700*cultura_E, \"Lucro_Total\"\n",
        "\n",
        "# Restrições\n",
        "# Recursos disponíveis\n",
        "prob += cultura_A + cultura_B + 2*cultura_C + 2*cultura_D + 1*cultura_E <= 100  # Horas de trabalho\n",
        "prob += cultura_A + cultura_B + 1.5*cultura_C + 2*cultura_D + 2.5*cultura_E <= 200  # Acres de terra\n",
        "prob += cultura_A + cultura_B + 2*cultura_C + 3*cultura_D + 4*cultura_E <= 300  # Unidades de água\n",
        "\n",
        "# Pelo menos 20% das horas para cultura D\n",
        "prob += 0.2 * (cultura_A + cultura_B + 2*cultura_C + 2*cultura_D + 1*cultura_E) <= 2*cultura_D\n",
        "\n",
        "# No máximo 30% das horas para cultura E\n",
        "prob += 0.3 * (cultura_A + cultura_B + 2*cultura_C + 2*cultura_D + 1*cultura_E) >= cultura_E\n",
        "\n",
        "# Demanda mínima de mercado\n",
        "prob += cultura_A >= 5\n",
        "prob += cultura_B >= 7\n",
        "prob += cultura_C >= 8\n",
        "prob += cultura_D >= 5\n",
        "prob += cultura_E >= 20\n",
        "\n",
        "# Resolvendo o problema\n",
        "prob.solve()\n",
        "\n",
        "# Exibindo os resultados\n",
        "print(\"Status:\", pulp.LpStatus[prob.status])\n",
        "print(\"Quantidade a ser plantada de cada cultura:\")\n",
        "print(\"Cultura A:\", pulp.value(cultura_A))\n",
        "print(\"Cultura B:\", pulp.value(cultura_B))\n",
        "print(\"Cultura C:\", pulp.value(cultura_C))\n",
        "print(\"Cultura D:\", pulp.value(cultura_D))\n",
        "print(\"Cultura E:\", pulp.value(cultura_E))\n",
        "print(\"Lucro Total:\", pulp.value(prob.objective))"
      ],
      "metadata": {
        "id": "sxM4B5PHNn_J",
        "colab": {
          "base_uri": "https://localhost:8080/"
        },
        "outputId": "8a4fa0e4-570a-43b0-9701-7f0bc8cb1d10"
      },
      "execution_count": null,
      "outputs": [
        {
          "output_type": "stream",
          "name": "stdout",
          "text": [
            "Status: Optimal\n",
            "Quantidade a ser plantada de cada cultura:\n",
            "Cultura A: 5.0\n",
            "Cultura B: 29.0\n",
            "Cultura C: 8.0\n",
            "Cultura D: 10.0\n",
            "Cultura E: 30.0\n",
            "Lucro Total: 43700.0\n"
          ]
        }
      ]
    }
  ]
}